{
 "cells": [
  {
   "cell_type": "markdown",
   "id": "f5048698",
   "metadata": {},
   "source": [
    "# Summarizing Automobile Evaluation Data"
   ]
  },
  {
   "cell_type": "markdown",
   "id": "6e3d2eca",
   "metadata": {},
   "source": [
    "In the following project you'll use what you've learned about summarizing categorical data to analyze a sample from a popular open source dataset. This dataset contains information on the cost and physical attributes of several thousand cars. Originally, this dataset was used to train a classification model that assigned an acceptability score/category to cars based on these attributes.\n",
    "\n",
    "The car evaluation dataset has been sourced from the UCI Machine Learning Repository and has been slightly modified for this project. Specifically, one additional field `manufacturer_country` has been simulated for illustrative purposes. You can read more about the details, features, and original uses of this dataset in research on the [UCI data description page](https://archive.ics.uci.edu/ml/datasets/car+evaluation)."
   ]
  },
  {
   "cell_type": "markdown",
   "id": "5a7c3519",
   "metadata": {},
   "source": [
    "## Summarizing Manufacturing Country"
   ]
  },
  {
   "cell_type": "markdown",
   "id": "cf23386f",
   "metadata": {},
   "source": [
    "1. `manufacturer_country` is a _nominal categorical variable_ that indicates the country of the manufacturer of each car reviewed. Create a table of frequencies of all the cars reviewed by `manufacturer_country`. What is the modal category? Which country appears 4th most frequently? Print out your results."
   ]
  },
  {
   "cell_type": "code",
   "execution_count": 1,
   "id": "37db0534",
   "metadata": {},
   "outputs": [
    {
     "data": {
      "text/html": [
       "<div>\n",
       "<style scoped>\n",
       "    .dataframe tbody tr th:only-of-type {\n",
       "        vertical-align: middle;\n",
       "    }\n",
       "\n",
       "    .dataframe tbody tr th {\n",
       "        vertical-align: top;\n",
       "    }\n",
       "\n",
       "    .dataframe thead th {\n",
       "        text-align: right;\n",
       "    }\n",
       "</style>\n",
       "<table border=\"1\" class=\"dataframe\">\n",
       "  <thead>\n",
       "    <tr style=\"text-align: right;\">\n",
       "      <th></th>\n",
       "      <th>buying_cost</th>\n",
       "      <th>maintenance_cost</th>\n",
       "      <th>doors</th>\n",
       "      <th>capacity</th>\n",
       "      <th>luggage</th>\n",
       "      <th>safety</th>\n",
       "      <th>acceptability</th>\n",
       "      <th>manufacturer_country</th>\n",
       "    </tr>\n",
       "  </thead>\n",
       "  <tbody>\n",
       "    <tr>\n",
       "      <th>0</th>\n",
       "      <td>vhigh</td>\n",
       "      <td>low</td>\n",
       "      <td>4</td>\n",
       "      <td>4</td>\n",
       "      <td>small</td>\n",
       "      <td>med</td>\n",
       "      <td>unacc</td>\n",
       "      <td>China</td>\n",
       "    </tr>\n",
       "    <tr>\n",
       "      <th>1</th>\n",
       "      <td>vhigh</td>\n",
       "      <td>med</td>\n",
       "      <td>3</td>\n",
       "      <td>4</td>\n",
       "      <td>small</td>\n",
       "      <td>high</td>\n",
       "      <td>acc</td>\n",
       "      <td>France</td>\n",
       "    </tr>\n",
       "    <tr>\n",
       "      <th>2</th>\n",
       "      <td>med</td>\n",
       "      <td>high</td>\n",
       "      <td>3</td>\n",
       "      <td>2</td>\n",
       "      <td>med</td>\n",
       "      <td>high</td>\n",
       "      <td>unacc</td>\n",
       "      <td>United States</td>\n",
       "    </tr>\n",
       "    <tr>\n",
       "      <th>3</th>\n",
       "      <td>low</td>\n",
       "      <td>med</td>\n",
       "      <td>4</td>\n",
       "      <td>more</td>\n",
       "      <td>big</td>\n",
       "      <td>low</td>\n",
       "      <td>unacc</td>\n",
       "      <td>United States</td>\n",
       "    </tr>\n",
       "    <tr>\n",
       "      <th>4</th>\n",
       "      <td>low</td>\n",
       "      <td>high</td>\n",
       "      <td>2</td>\n",
       "      <td>more</td>\n",
       "      <td>med</td>\n",
       "      <td>high</td>\n",
       "      <td>acc</td>\n",
       "      <td>South Korea</td>\n",
       "    </tr>\n",
       "  </tbody>\n",
       "</table>\n",
       "</div>"
      ],
      "text/plain": [
       "  buying_cost maintenance_cost doors capacity luggage safety acceptability  \\\n",
       "0       vhigh              low     4        4   small    med         unacc   \n",
       "1       vhigh              med     3        4   small   high           acc   \n",
       "2         med             high     3        2     med   high         unacc   \n",
       "3         low              med     4     more     big    low         unacc   \n",
       "4         low             high     2     more     med   high           acc   \n",
       "\n",
       "  manufacturer_country  \n",
       "0                China  \n",
       "1               France  \n",
       "2        United States  \n",
       "3        United States  \n",
       "4          South Korea  "
      ]
     },
     "execution_count": 1,
     "metadata": {},
     "output_type": "execute_result"
    }
   ],
   "source": [
    "import pandas as pd\n",
    "import numpy as np\n",
    "car_eval = pd.read_csv('car_eval_dataset.csv')\n",
    "car_eval.head()\n"
   ]
  },
  {
   "cell_type": "markdown",
   "id": "ee1e5244",
   "metadata": {},
   "source": [
    "2. Calculate a table of proportions for countries that appear in `manufacturer_country` in the dataset. What percentage of cars were manufactured in Japan?"
   ]
  },
  {
   "cell_type": "code",
   "execution_count": 2,
   "id": "9182f21b",
   "metadata": {},
   "outputs": [
    {
     "data": {
      "text/plain": [
       "0.228"
      ]
     },
     "execution_count": 2,
     "metadata": {},
     "output_type": "execute_result"
    }
   ],
   "source": [
    "mfg_country_freq = car_eval['manufacturer_country'].value_counts(normalize=True)\n",
    "japan_mfg_freq = mfg_country_freq['Japan']\n",
    "japan_mfg_freq"
   ]
  },
  {
   "cell_type": "markdown",
   "id": "5b05bb2b",
   "metadata": {},
   "source": [
    "## Summarizing Buying Costs"
   ]
  },
  {
   "cell_type": "markdown",
   "id": "3ceb7a05",
   "metadata": {},
   "source": [
    "3. `buying_cost` is a categorical variable which describes the cost of buying any car in the dataset. Print out a list of the possible values for this variable."
   ]
  },
  {
   "cell_type": "code",
   "execution_count": 3,
   "id": "89d6819b",
   "metadata": {},
   "outputs": [
    {
     "data": {
      "text/plain": [
       "['vhigh', 'med', 'low', 'high']"
      ]
     },
     "execution_count": 3,
     "metadata": {},
     "output_type": "execute_result"
    }
   ],
   "source": [
    "car_eval_buying_cost_cols = list(car_eval['buying_cost'].unique())\n",
    "car_eval_buying_cost_cols"
   ]
  },
  {
   "cell_type": "markdown",
   "id": "f7c4aa76",
   "metadata": {},
   "source": [
    "4. `buying_cost` is an _ordinal categorical variable_, which means we can create an order associated with the values in the data and perform numeric operations on the variable. Create a new list, `buying_cost_categories`, that contains the unique values in `buying_cost`, ordered from lowest to highest."
   ]
  },
  {
   "cell_type": "code",
   "execution_count": 4,
   "id": "3e56b2d0",
   "metadata": {},
   "outputs": [],
   "source": [
    "buying_cost_categories = ['low', 'med', 'high', 'vhigh']"
   ]
  },
  {
   "cell_type": "markdown",
   "id": "fed08c10",
   "metadata": {},
   "source": [
    "5. Convert `buying_cost` to type `'category'` using the list you created in the previous exercise."
   ]
  },
  {
   "cell_type": "code",
   "execution_count": 5,
   "id": "eb5a13de",
   "metadata": {},
   "outputs": [],
   "source": [
    "car_eval['buying_cost'] = pd.Categorical(car_eval['buying_cost'], buying_cost_categories, ordered=True)"
   ]
  },
  {
   "cell_type": "markdown",
   "id": "1674fff1",
   "metadata": {},
   "source": [
    "6. Calculate the median category of the `buying_cost` variable and print the result."
   ]
  },
  {
   "cell_type": "code",
   "execution_count": 8,
   "id": "d402fb98",
   "metadata": {},
   "outputs": [
    {
     "data": {
      "text/plain": [
       "'med'"
      ]
     },
     "execution_count": 8,
     "metadata": {},
     "output_type": "execute_result"
    }
   ],
   "source": [
    "buying_cost_median_index = np.median(car_eval['buying_cost'].cat.codes)\n",
    "buying_cost_median = buying_cost_categories[int(buying_cost_median_index)]\n",
    "buying_cost_median"
   ]
  },
  {
   "cell_type": "markdown",
   "id": "1b62d1ae",
   "metadata": {},
   "source": [
    "## Summarizing Luggage Capacity"
   ]
  },
  {
   "cell_type": "markdown",
   "id": "b599f083",
   "metadata": {},
   "source": [
    "7. `luggage` is a categorical variable in the car evaluations dataset that records the luggage capacity for each reviewed car. Calculate a table of proportions for this variable and print the result."
   ]
  },
  {
   "cell_type": "code",
   "execution_count": 13,
   "id": "e19d3bf8",
   "metadata": {},
   "outputs": [
    {
     "data": {
      "text/plain": [
       "luggage\n",
       "small    0.339\n",
       "med      0.333\n",
       "big      0.328\n",
       "Name: proportion, dtype: float64"
      ]
     },
     "execution_count": 13,
     "metadata": {},
     "output_type": "execute_result"
    }
   ],
   "source": [
    "luggage_types = list(car_eval['luggage'].unique())\n",
    "luggage_type_count = car_eval['luggage'].value_counts(normalize=True)\n",
    "luggage_type_count"
   ]
  },
  {
   "cell_type": "markdown",
   "id": "2b6fe817",
   "metadata": {},
   "source": [
    "8. Are there any missing values in this column? Replicate the table of proportions from the previous exercise, but do not drop any missing values from the count. Print the result."
   ]
  },
  {
   "cell_type": "code",
   "execution_count": 14,
   "id": "dc8bf3c6",
   "metadata": {},
   "outputs": [
    {
     "data": {
      "text/plain": [
       "luggage\n",
       "small    0.339\n",
       "med      0.333\n",
       "big      0.328\n",
       "Name: proportion, dtype: float64"
      ]
     },
     "execution_count": 14,
     "metadata": {},
     "output_type": "execute_result"
    }
   ],
   "source": [
    "car_eval['luggage'].value_counts(normalize=True, dropna=False)"
   ]
  },
  {
   "cell_type": "markdown",
   "id": "a23eb89b",
   "metadata": {},
   "source": [
    "9. Without passing `normalize = True` to `.value_counts()`, can you replicate the result you got in the previous exercises?"
   ]
  },
  {
   "cell_type": "code",
   "execution_count": 20,
   "id": "0f793fa5",
   "metadata": {},
   "outputs": [
    {
     "data": {
      "text/plain": [
       "luggage\n",
       "small    0.339\n",
       "med      0.333\n",
       "big      0.328\n",
       "Name: count, dtype: float64"
      ]
     },
     "execution_count": 20,
     "metadata": {},
     "output_type": "execute_result"
    }
   ],
   "source": [
    "total = car_eval['luggage'].value_counts() / len(car_eval['luggage'])\n",
    "total"
   ]
  },
  {
   "cell_type": "markdown",
   "id": "6fd9eeff",
   "metadata": {},
   "source": [
    "## Summarizing Passenger Capacity"
   ]
  },
  {
   "cell_type": "markdown",
   "id": "276efc2d",
   "metadata": {},
   "source": [
    "10. `doors` is a categorical variable in the car evaluations dataset that records the count of doors for each reviewed car. Find the count of cars that have 5 or more doors. You can identify cars with 5+ doors by looking for cars that have a value of `'5more'` in the `doors` column. Print your result."
   ]
  },
  {
   "cell_type": "code",
   "execution_count": 27,
   "id": "5cbb524a",
   "metadata": {},
   "outputs": [
    {
     "data": {
      "text/plain": [
       "doors\n",
       "4        263\n",
       "3        252\n",
       "5more    246\n",
       "2        239\n",
       "Name: count, dtype: int64"
      ]
     },
     "execution_count": 27,
     "metadata": {},
     "output_type": "execute_result"
    }
   ],
   "source": [
    "doors_types = list(car_eval['doors'].unique())\n",
    "doors_counts = car_eval['doors'].value_counts()\n",
    "doors_counts"
   ]
  },
  {
   "cell_type": "markdown",
   "id": "d5fbe9de",
   "metadata": {},
   "source": [
    "11. Find the proportion of cars that have 5+ doors and print the result."
   ]
  },
  {
   "cell_type": "code",
   "execution_count": 30,
   "id": "7c56f800",
   "metadata": {},
   "outputs": [
    {
     "data": {
      "text/plain": [
       "doors\n",
       "4        0.263\n",
       "3        0.252\n",
       "5more    0.246\n",
       "2        0.239\n",
       "Name: proportion, dtype: float64"
      ]
     },
     "execution_count": 30,
     "metadata": {},
     "output_type": "execute_result"
    }
   ],
   "source": [
    "door_proportions = car_eval['doors'].value_counts(normalize=True)\n",
    "door_proportions"
   ]
  }
 ],
 "metadata": {
  "kernelspec": {
   "display_name": "Python 3 (ipykernel)",
   "language": "python",
   "name": "python3"
  },
  "language_info": {
   "codemirror_mode": {
    "name": "ipython",
    "version": 3
   },
   "file_extension": ".py",
   "mimetype": "text/x-python",
   "name": "python",
   "nbconvert_exporter": "python",
   "pygments_lexer": "ipython3",
   "version": "3.11.4"
  }
 },
 "nbformat": 4,
 "nbformat_minor": 5
}
