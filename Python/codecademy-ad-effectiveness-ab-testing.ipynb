{
 "cells": [
  {
   "cell_type": "markdown",
   "metadata": {},
   "source": [
    "# Compare Ad Effectiveness Using A/B Tests with Python Project\n",
    "\n",
    "- [View Solution Notebook](./solution.html)\n",
    "- [View Project Page]()"
   ]
  },
  {
   "cell_type": "markdown",
   "metadata": {},
   "source": [
    "## Task Group 1 - Import, Inspect, and Merge"
   ]
  },
  {
   "cell_type": "markdown",
   "metadata": {},
   "source": [
    "### Task 1"
   ]
  },
  {
   "cell_type": "markdown",
   "metadata": {},
   "source": [
    "Import the **pandas** and **numpy** libraries using their standard aliases. "
   ]
  },
  {
   "cell_type": "code",
   "execution_count": 25,
   "metadata": {},
   "outputs": [],
   "source": [
    "import pandas as pd\n",
    "import numpy as np"
   ]
  },
  {
   "cell_type": "markdown",
   "metadata": {},
   "source": [
    "### Task 2"
   ]
  },
  {
   "cell_type": "markdown",
   "metadata": {},
   "source": [
    "Import the CSV file `users.csv` and assign it to the variable `users`. Preview the first five rows."
   ]
  },
  {
   "cell_type": "code",
   "execution_count": 26,
   "metadata": {},
   "outputs": [
    {
     "data": {
      "text/html": [
       "<div>\n",
       "<style scoped>\n",
       "    .dataframe tbody tr th:only-of-type {\n",
       "        vertical-align: middle;\n",
       "    }\n",
       "\n",
       "    .dataframe tbody tr th {\n",
       "        vertical-align: top;\n",
       "    }\n",
       "\n",
       "    .dataframe thead th {\n",
       "        text-align: right;\n",
       "    }\n",
       "</style>\n",
       "<table border=\"1\" class=\"dataframe\">\n",
       "  <thead>\n",
       "    <tr style=\"text-align: right;\">\n",
       "      <th></th>\n",
       "      <th>user_id</th>\n",
       "      <th>timestamp</th>\n",
       "      <th>device_id</th>\n",
       "      <th>clicked</th>\n",
       "    </tr>\n",
       "  </thead>\n",
       "  <tbody>\n",
       "    <tr>\n",
       "      <th>0</th>\n",
       "      <td>U790620</td>\n",
       "      <td>2022-01-01 00:23:33 Saturday</td>\n",
       "      <td>M003</td>\n",
       "      <td>False</td>\n",
       "    </tr>\n",
       "    <tr>\n",
       "      <th>1</th>\n",
       "      <td>U584867</td>\n",
       "      <td>2022-01-01 01:30:07 Saturday</td>\n",
       "      <td>M001</td>\n",
       "      <td>False</td>\n",
       "    </tr>\n",
       "    <tr>\n",
       "      <th>2</th>\n",
       "      <td>U128681</td>\n",
       "      <td>2022-01-01 01:30:14 Saturday</td>\n",
       "      <td>M002</td>\n",
       "      <td>True</td>\n",
       "    </tr>\n",
       "    <tr>\n",
       "      <th>3</th>\n",
       "      <td>U694898</td>\n",
       "      <td>2022-01-01 01:31:55 Saturday</td>\n",
       "      <td>M003</td>\n",
       "      <td>False</td>\n",
       "    </tr>\n",
       "    <tr>\n",
       "      <th>4</th>\n",
       "      <td>U456823</td>\n",
       "      <td>2022-01-01 03:18:25 Saturday</td>\n",
       "      <td>M001</td>\n",
       "      <td>False</td>\n",
       "    </tr>\n",
       "  </tbody>\n",
       "</table>\n",
       "</div>"
      ],
      "text/plain": [
       "   user_id                     timestamp device_id  clicked\n",
       "0  U790620  2022-01-01 00:23:33 Saturday      M003    False\n",
       "1  U584867  2022-01-01 01:30:07 Saturday      M001    False\n",
       "2  U128681  2022-01-01 01:30:14 Saturday      M002     True\n",
       "3  U694898  2022-01-01 01:31:55 Saturday      M003    False\n",
       "4  U456823  2022-01-01 03:18:25 Saturday      M001    False"
      ]
     },
     "execution_count": 26,
     "metadata": {},
     "output_type": "execute_result"
    }
   ],
   "source": [
    "users = pd.read_csv('users.csv')\n",
    "users.head()"
   ]
  },
  {
   "cell_type": "markdown",
   "metadata": {},
   "source": [
    "<details>\n",
    "    <summary style=\"display:list-item; font-size:16px; color:blue;\"><i>What is the structure of this dataset? Toggle to check!</i></summary>\n",
    "\n",
    "Each row in `users` corresponds to an individual session in which a user viewed an ad from a specific device and either clicked or did not click the ad.\n",
    "\n",
    "Here's a quick summary of the columns:\n",
    "\n",
    "- `user_id` - a unique identifier for each user\n",
    "- `timestamp` - the date and time the user viewed the ad in the format: `<YYYY-MM-DD HH:MM:SS day_of_week>`\n",
    "- `device_id` - a unique identifier for the device the user was using to view the ad\n",
    "- `clicked` - `True` if the user clicked on the ad, otherwise `False`\n",
    "\n",
    "</details>"
   ]
  },
  {
   "cell_type": "markdown",
   "metadata": {},
   "source": [
    "### Task 3"
   ]
  },
  {
   "cell_type": "markdown",
   "metadata": {},
   "source": [
    "Import the CSV file `advertisements.csv` and assign it to the variable `advertisements`. Preview the first five rows."
   ]
  },
  {
   "cell_type": "code",
   "execution_count": 27,
   "metadata": {},
   "outputs": [
    {
     "data": {
      "text/html": [
       "<div>\n",
       "<style scoped>\n",
       "    .dataframe tbody tr th:only-of-type {\n",
       "        vertical-align: middle;\n",
       "    }\n",
       "\n",
       "    .dataframe tbody tr th {\n",
       "        vertical-align: top;\n",
       "    }\n",
       "\n",
       "    .dataframe thead th {\n",
       "        text-align: right;\n",
       "    }\n",
       "</style>\n",
       "<table border=\"1\" class=\"dataframe\">\n",
       "  <thead>\n",
       "    <tr style=\"text-align: right;\">\n",
       "      <th></th>\n",
       "      <th>user_id</th>\n",
       "      <th>timestamp</th>\n",
       "      <th>ad_source</th>\n",
       "      <th>ad_version</th>\n",
       "    </tr>\n",
       "  </thead>\n",
       "  <tbody>\n",
       "    <tr>\n",
       "      <th>0</th>\n",
       "      <td>U790620</td>\n",
       "      <td>2022-01-01 00:23:33 Saturday</td>\n",
       "      <td>Twitter</td>\n",
       "      <td>A</td>\n",
       "    </tr>\n",
       "    <tr>\n",
       "      <th>1</th>\n",
       "      <td>U584867</td>\n",
       "      <td>2022-01-01 01:30:07 Saturday</td>\n",
       "      <td>Google</td>\n",
       "      <td>B</td>\n",
       "    </tr>\n",
       "    <tr>\n",
       "      <th>2</th>\n",
       "      <td>U128681</td>\n",
       "      <td>2022-01-01 01:30:14 Saturday</td>\n",
       "      <td>TikTok</td>\n",
       "      <td>B</td>\n",
       "    </tr>\n",
       "    <tr>\n",
       "      <th>3</th>\n",
       "      <td>U694898</td>\n",
       "      <td>2022-01-01 01:31:55 Saturday</td>\n",
       "      <td>TikTok</td>\n",
       "      <td>A</td>\n",
       "    </tr>\n",
       "    <tr>\n",
       "      <th>4</th>\n",
       "      <td>U456823</td>\n",
       "      <td>2022-01-01 03:18:25 Saturday</td>\n",
       "      <td>Google</td>\n",
       "      <td>A</td>\n",
       "    </tr>\n",
       "  </tbody>\n",
       "</table>\n",
       "</div>"
      ],
      "text/plain": [
       "   user_id                     timestamp ad_source ad_version\n",
       "0  U790620  2022-01-01 00:23:33 Saturday   Twitter          A\n",
       "1  U584867  2022-01-01 01:30:07 Saturday    Google          B\n",
       "2  U128681  2022-01-01 01:30:14 Saturday    TikTok          B\n",
       "3  U694898  2022-01-01 01:31:55 Saturday    TikTok          A\n",
       "4  U456823  2022-01-01 03:18:25 Saturday    Google          A"
      ]
     },
     "execution_count": 27,
     "metadata": {},
     "output_type": "execute_result"
    }
   ],
   "source": [
    "advertisements = pd.read_csv('advertisements.csv')\n",
    "advertisements.head()"
   ]
  },
  {
   "cell_type": "markdown",
   "metadata": {},
   "source": [
    "<details>\n",
    "    <summary style=\"display:list-item; font-size:16px; color:blue;\"><i>What is the structure of this dataset? Toggle to check!</i></summary>\n",
    "\n",
    "Each row in `advertisements` contains a more detailed breakdown of the advertisement corresponding to each user session.\n",
    "\n",
    "Here's a quick summary of the columns:\n",
    "\n",
    "- `user_id` - a unique identifier for each user\n",
    "- `timestamp` - the date and time the user viewed the ad in the format: `<YYYY-MM-DD HH:MM:SS day_of_week>`\n",
    "- `ad_source` - the social media platform the user viewed the ad on\n",
    "- `ad_version` - the version of the ad the user viewed where `A` is the original ad and `B` is the new ad\n",
    "\n",
    "</details>"
   ]
  },
  {
   "cell_type": "markdown",
   "metadata": {},
   "source": [
    "### Task 4\n",
    "\n",
    "There are two `user_id` columns, one in each DataFrame. Let's do a quick check to see if they have the same number of unique users. If they don't, we'll know to be careful about this issue later on in our analysis.\n",
    "\n",
    "Count the unique number of `user_id`s in `users` and separately in `advertisements`.\n",
    "\n",
    "Print both counts."
   ]
  },
  {
   "cell_type": "code",
   "execution_count": 28,
   "metadata": {},
   "outputs": [
    {
     "name": "stdout",
     "output_type": "stream",
     "text": [
      "user_id       14602\n",
      "timestamp     14744\n",
      "ad_source         4\n",
      "ad_version        2\n",
      "dtype: int64\n",
      "------------------------\n",
      "user_id      15122\n",
      "timestamp    15273\n",
      "device_id       15\n",
      "clicked          2\n",
      "dtype: int64\n"
     ]
    }
   ],
   "source": [
    "print(advertisements.nunique())\n",
    "print(\"------------------------\")\n",
    "print(users.nunique())"
   ]
  },
  {
   "cell_type": "markdown",
   "metadata": {},
   "source": [
    "### Task 5"
   ]
  },
  {
   "cell_type": "markdown",
   "metadata": {},
   "source": [
    "In order to effectively analyze the results of our A/B test, we'll need rows that contain user information from both DataFrames. Specifically, we'll need to know whether or not a user `clicked` on the ad in `users` and we'll need to know which `ad_version` the user viewed in `advertisements`. \n",
    "\n",
    "Merge `users` and `advertisements` on the `user_id` and `timestamp` columns. Make sure to only return rows that have data from both DataFrames.\n",
    "\n",
    "Save the merged DataFrame to a variable named `users_ads` and preview the first five rows. "
   ]
  },
  {
   "cell_type": "code",
   "execution_count": 29,
   "metadata": {},
   "outputs": [
    {
     "data": {
      "text/html": [
       "<div>\n",
       "<style scoped>\n",
       "    .dataframe tbody tr th:only-of-type {\n",
       "        vertical-align: middle;\n",
       "    }\n",
       "\n",
       "    .dataframe tbody tr th {\n",
       "        vertical-align: top;\n",
       "    }\n",
       "\n",
       "    .dataframe thead th {\n",
       "        text-align: right;\n",
       "    }\n",
       "</style>\n",
       "<table border=\"1\" class=\"dataframe\">\n",
       "  <thead>\n",
       "    <tr style=\"text-align: right;\">\n",
       "      <th></th>\n",
       "      <th>user_id</th>\n",
       "      <th>timestamp</th>\n",
       "      <th>device_id</th>\n",
       "      <th>clicked</th>\n",
       "      <th>ad_source</th>\n",
       "      <th>ad_version</th>\n",
       "    </tr>\n",
       "  </thead>\n",
       "  <tbody>\n",
       "    <tr>\n",
       "      <th>0</th>\n",
       "      <td>U790620</td>\n",
       "      <td>2022-01-01 00:23:33 Saturday</td>\n",
       "      <td>M003</td>\n",
       "      <td>False</td>\n",
       "      <td>Twitter</td>\n",
       "      <td>A</td>\n",
       "    </tr>\n",
       "    <tr>\n",
       "      <th>1</th>\n",
       "      <td>U584867</td>\n",
       "      <td>2022-01-01 01:30:07 Saturday</td>\n",
       "      <td>M001</td>\n",
       "      <td>False</td>\n",
       "      <td>Google</td>\n",
       "      <td>B</td>\n",
       "    </tr>\n",
       "    <tr>\n",
       "      <th>2</th>\n",
       "      <td>U128681</td>\n",
       "      <td>2022-01-01 01:30:14 Saturday</td>\n",
       "      <td>M002</td>\n",
       "      <td>True</td>\n",
       "      <td>TikTok</td>\n",
       "      <td>B</td>\n",
       "    </tr>\n",
       "    <tr>\n",
       "      <th>3</th>\n",
       "      <td>U694898</td>\n",
       "      <td>2022-01-01 01:31:55 Saturday</td>\n",
       "      <td>M003</td>\n",
       "      <td>False</td>\n",
       "      <td>TikTok</td>\n",
       "      <td>A</td>\n",
       "    </tr>\n",
       "    <tr>\n",
       "      <th>4</th>\n",
       "      <td>U456823</td>\n",
       "      <td>2022-01-01 03:18:25 Saturday</td>\n",
       "      <td>M001</td>\n",
       "      <td>False</td>\n",
       "      <td>Google</td>\n",
       "      <td>A</td>\n",
       "    </tr>\n",
       "  </tbody>\n",
       "</table>\n",
       "</div>"
      ],
      "text/plain": [
       "   user_id                     timestamp device_id  clicked ad_source  \\\n",
       "0  U790620  2022-01-01 00:23:33 Saturday      M003    False   Twitter   \n",
       "1  U584867  2022-01-01 01:30:07 Saturday      M001    False    Google   \n",
       "2  U128681  2022-01-01 01:30:14 Saturday      M002     True    TikTok   \n",
       "3  U694898  2022-01-01 01:31:55 Saturday      M003    False    TikTok   \n",
       "4  U456823  2022-01-01 03:18:25 Saturday      M001    False    Google   \n",
       "\n",
       "  ad_version  \n",
       "0          A  \n",
       "1          B  \n",
       "2          B  \n",
       "3          A  \n",
       "4          A  "
      ]
     },
     "execution_count": 29,
     "metadata": {},
     "output_type": "execute_result"
    }
   ],
   "source": [
    "user_ads = pd.merge(users, advertisements, on=['user_id', 'timestamp'], how='inner')\n",
    "user_ads.head()"
   ]
  },
  {
   "cell_type": "markdown",
   "metadata": {},
   "source": [
    "<details>\n",
    "    <summary style=\"display:list-item; font-size:16px; color:blue;\"><i>Why do we use a merge that returns matching rows from both DataFrames? Toggle to check!</i></summary>\n",
    "\n",
    "We saw in task 4 that the two DataFrames do not have the same number of unique `user_id`s, so there are some users that are missing advertisement data. Perhaps these are users who opted out of certain tracking cookies. In any case, we only want to work with users where we know which ad they saw.\n",
    "\n",
    "We'll also need to merge on multiple columns in the case where users with the same `user_id` saw the ad multiple times. By also merging with `timestamp`, we now have data from each user's individual session.\n",
    "\n",
    "</details>"
   ]
  },
  {
   "cell_type": "markdown",
   "metadata": {},
   "source": [
    "## Task Group 2 - Use Aggregations to Calculate Click-Through Rate"
   ]
  },
  {
   "cell_type": "markdown",
   "metadata": {},
   "source": [
    "### Task 6"
   ]
  },
  {
   "cell_type": "markdown",
   "metadata": {},
   "source": [
    "To begin our exploration, let's count how many times each `ad_version` was viewed by users in `users_ads`. \n",
    "\n",
    "Group `users_ads` by `ad_version` and `count` the `user_id` column. Save the result to the variable `ad_view_count`, and rename the `user_id` column `num_views`.\n",
    "\n",
    "Preview the final result."
   ]
  },
  {
   "cell_type": "code",
   "execution_count": 30,
   "metadata": {},
   "outputs": [
    {
     "data": {
      "text/html": [
       "<div>\n",
       "<style scoped>\n",
       "    .dataframe tbody tr th:only-of-type {\n",
       "        vertical-align: middle;\n",
       "    }\n",
       "\n",
       "    .dataframe tbody tr th {\n",
       "        vertical-align: top;\n",
       "    }\n",
       "\n",
       "    .dataframe thead th {\n",
       "        text-align: right;\n",
       "    }\n",
       "</style>\n",
       "<table border=\"1\" class=\"dataframe\">\n",
       "  <thead>\n",
       "    <tr style=\"text-align: right;\">\n",
       "      <th></th>\n",
       "      <th>clicked</th>\n",
       "    </tr>\n",
       "    <tr>\n",
       "      <th>ad_version</th>\n",
       "      <th></th>\n",
       "    </tr>\n",
       "  </thead>\n",
       "  <tbody>\n",
       "    <tr>\n",
       "      <th>A</th>\n",
       "      <td>888</td>\n",
       "    </tr>\n",
       "    <tr>\n",
       "      <th>B</th>\n",
       "      <td>1412</td>\n",
       "    </tr>\n",
       "  </tbody>\n",
       "</table>\n",
       "</div>"
      ],
      "text/plain": [
       "            clicked\n",
       "ad_version         \n",
       "A               888\n",
       "B              1412"
      ]
     },
     "execution_count": 30,
     "metadata": {},
     "output_type": "execute_result"
    }
   ],
   "source": [
    "ad_view_count = user_ads.groupby(['ad_version']).sum('user_id')\n",
    "ad_view_count.head()"
   ]
  },
  {
   "cell_type": "markdown",
   "metadata": {},
   "source": [
    "### Task 7"
   ]
  },
  {
   "cell_type": "markdown",
   "metadata": {},
   "source": [
    "There may be instances where individual users saw the ads more than once. Let's re-do the groupby from Task 6, but adding a column with the number of unique `user_id`s for each ad.\n",
    "\n",
    "Modify `ad_view_count` to also return the count of unique users in `user_id`. Name this new column `nunique`.\n",
    "\n",
    "Preview the modified `ad_view_count`. "
   ]
  },
  {
   "cell_type": "code",
   "execution_count": 31,
   "metadata": {},
   "outputs": [
    {
     "data": {
      "text/html": [
       "<div>\n",
       "<style scoped>\n",
       "    .dataframe tbody tr th:only-of-type {\n",
       "        vertical-align: middle;\n",
       "    }\n",
       "\n",
       "    .dataframe tbody tr th {\n",
       "        vertical-align: top;\n",
       "    }\n",
       "\n",
       "    .dataframe thead tr th {\n",
       "        text-align: left;\n",
       "    }\n",
       "\n",
       "    .dataframe thead tr:last-of-type th {\n",
       "        text-align: right;\n",
       "    }\n",
       "</style>\n",
       "<table border=\"1\" class=\"dataframe\">\n",
       "  <thead>\n",
       "    <tr>\n",
       "      <th></th>\n",
       "      <th colspan=\"2\" halign=\"left\">user_id</th>\n",
       "    </tr>\n",
       "    <tr>\n",
       "      <th></th>\n",
       "      <th>nunique</th>\n",
       "      <th>count</th>\n",
       "    </tr>\n",
       "    <tr>\n",
       "      <th>ad_version</th>\n",
       "      <th></th>\n",
       "      <th></th>\n",
       "    </tr>\n",
       "  </thead>\n",
       "  <tbody>\n",
       "    <tr>\n",
       "      <th>A</th>\n",
       "      <td>7125</td>\n",
       "      <td>7154</td>\n",
       "    </tr>\n",
       "    <tr>\n",
       "      <th>B</th>\n",
       "      <td>7232</td>\n",
       "      <td>7270</td>\n",
       "    </tr>\n",
       "  </tbody>\n",
       "</table>\n",
       "</div>"
      ],
      "text/plain": [
       "           user_id      \n",
       "           nunique count\n",
       "ad_version              \n",
       "A             7125  7154\n",
       "B             7232  7270"
      ]
     },
     "execution_count": 31,
     "metadata": {},
     "output_type": "execute_result"
    }
   ],
   "source": [
    "ad_view_count = user_ads.groupby(['ad_version']).agg({'user_id':['nunique', 'count']})\n",
    "ad_view_count.head()"
   ]
  },
  {
   "cell_type": "markdown",
   "metadata": {},
   "source": [
    "<details>\n",
    "    <summary style=\"display:list-item; font-size:16px; color:blue;\"><i>How should we address users who saw ads more than once? Toggle to check!</i></summary>\n",
    "\n",
    "Users who either saw both ad versions or one version multiple times may introduce bias to our test. For example, we might encounter **familiarity bias** in which users become more likely to click an ad they have seen more frequently.\n",
    "    \n",
    "In this case, there aren't that many repeat viewers, so we won't address the issue directly. But feel free to remove these duplicates and re-run our analysis on your own! \n",
    "\n",
    "</details>"
   ]
  },
  {
   "cell_type": "markdown",
   "metadata": {},
   "source": [
    "### Task 8"
   ]
  },
  {
   "cell_type": "markdown",
   "metadata": {},
   "source": [
    "Group by `ad_version` and compute the **percentage** of users who clicked on each ad. This metric is known as the **click-through rate (CTR)** and is widely used as a performance metric. \n",
    "\n",
    "Save the resultin DataFrame to the variable `ad_ctr_pct`.\n",
    "\n",
    "Rename the `clicked` column to `click_rate`.\n",
    "\n",
    "Preview `ad_ctr_pct`."
   ]
  },
  {
   "cell_type": "code",
   "execution_count": 32,
   "metadata": {},
   "outputs": [
    {
     "data": {
      "text/html": [
       "<div>\n",
       "<style scoped>\n",
       "    .dataframe tbody tr th:only-of-type {\n",
       "        vertical-align: middle;\n",
       "    }\n",
       "\n",
       "    .dataframe tbody tr th {\n",
       "        vertical-align: top;\n",
       "    }\n",
       "\n",
       "    .dataframe thead th {\n",
       "        text-align: right;\n",
       "    }\n",
       "</style>\n",
       "<table border=\"1\" class=\"dataframe\">\n",
       "  <thead>\n",
       "    <tr style=\"text-align: right;\">\n",
       "      <th></th>\n",
       "      <th>ad version</th>\n",
       "      <th>ctr</th>\n",
       "    </tr>\n",
       "  </thead>\n",
       "  <tbody>\n",
       "    <tr>\n",
       "      <th>0</th>\n",
       "      <td>A</td>\n",
       "      <td>12.412636</td>\n",
       "    </tr>\n",
       "    <tr>\n",
       "      <th>1</th>\n",
       "      <td>B</td>\n",
       "      <td>19.422283</td>\n",
       "    </tr>\n",
       "  </tbody>\n",
       "</table>\n",
       "</div>"
      ],
      "text/plain": [
       "  ad version        ctr\n",
       "0          A  12.412636\n",
       "1          B  19.422283"
      ]
     },
     "execution_count": 32,
     "metadata": {},
     "output_type": "execute_result"
    }
   ],
   "source": [
    "ad_ctr_pct = user_ads.groupby('ad_version').mean('clicked') * 100\n",
    "ad_ctr_pct = ad_ctr_pct.reset_index() \n",
    "ad_ctr_pct.columns = ['ad version', 'ctr']\n",
    "ad_ctr_pct.head()"
   ]
  },
  {
   "cell_type": "markdown",
   "metadata": {},
   "source": [
    "<details>\n",
    "    <summary style=\"display:list-item; font-size:16px; color:blue;\"><i>What did we learn about each ad version? Toggle to check!</i></summary>\n",
    "\n",
    "Looking at results of our A/B test, we see that the new ad version `B` has a click-through rate of about 19.4% and the old ad version `A` has a click-through rate of about 12.4% (a +7% difference!). \n",
    "\n",
    "While a 7% difference may seem huge, we'll need to continue exploring the data to be more confident in our conclusions about the effectiveness of each advertisement. \n",
    "\n",
    "</details>"
   ]
  },
  {
   "cell_type": "markdown",
   "metadata": {},
   "source": [
    "## Task Group 3: Compare Ad Performances by Social Media Platform"
   ]
  },
  {
   "cell_type": "markdown",
   "metadata": {},
   "source": [
    "### Task 9\n",
    "\n",
    "Let's break down click-through rate by social media platform.\n",
    "\n",
    "Group `users_ads` by `ad_source` and `ad_version`, and compute the percent of `True` values in `clicked`.\n",
    "\n",
    "Rename the column containing the percents `ctr` and view the full resulting DataFrame."
   ]
  },
  {
   "cell_type": "code",
   "execution_count": 33,
   "metadata": {},
   "outputs": [
    {
     "data": {
      "text/html": [
       "<div>\n",
       "<style scoped>\n",
       "    .dataframe tbody tr th:only-of-type {\n",
       "        vertical-align: middle;\n",
       "    }\n",
       "\n",
       "    .dataframe tbody tr th {\n",
       "        vertical-align: top;\n",
       "    }\n",
       "\n",
       "    .dataframe thead th {\n",
       "        text-align: right;\n",
       "    }\n",
       "</style>\n",
       "<table border=\"1\" class=\"dataframe\">\n",
       "  <thead>\n",
       "    <tr style=\"text-align: right;\">\n",
       "      <th></th>\n",
       "      <th></th>\n",
       "      <th>clicked</th>\n",
       "    </tr>\n",
       "    <tr>\n",
       "      <th>ad_source</th>\n",
       "      <th>ad_version</th>\n",
       "      <th></th>\n",
       "    </tr>\n",
       "  </thead>\n",
       "  <tbody>\n",
       "    <tr>\n",
       "      <th rowspan=\"2\" valign=\"top\">Google</th>\n",
       "      <th>A</th>\n",
       "      <td>12.838469</td>\n",
       "    </tr>\n",
       "    <tr>\n",
       "      <th>B</th>\n",
       "      <td>19.882512</td>\n",
       "    </tr>\n",
       "    <tr>\n",
       "      <th rowspan=\"2\" valign=\"top\">Meta</th>\n",
       "      <th>A</th>\n",
       "      <td>12.966418</td>\n",
       "    </tr>\n",
       "    <tr>\n",
       "      <th>B</th>\n",
       "      <td>18.803419</td>\n",
       "    </tr>\n",
       "    <tr>\n",
       "      <th>TikTok</th>\n",
       "      <th>A</th>\n",
       "      <td>11.581921</td>\n",
       "    </tr>\n",
       "  </tbody>\n",
       "</table>\n",
       "</div>"
      ],
      "text/plain": [
       "                        clicked\n",
       "ad_source ad_version           \n",
       "Google    A           12.838469\n",
       "          B           19.882512\n",
       "Meta      A           12.966418\n",
       "          B           18.803419\n",
       "TikTok    A           11.581921"
      ]
     },
     "execution_count": 33,
     "metadata": {},
     "output_type": "execute_result"
    }
   ],
   "source": [
    "ads_by_social = user_ads.groupby(['ad_source', 'ad_version']).mean('clicked') * 100\n",
    "ads_by_social.head()\n"
   ]
  },
  {
   "cell_type": "markdown",
   "metadata": {},
   "source": [
    "### Task 10"
   ]
  },
  {
   "cell_type": "markdown",
   "metadata": {},
   "source": [
    "It is a little hard to read the long-format table from Task 9.\n",
    " \n",
    "Pivot `users_ads` to create a wide-format version of this table, and name it `ad_social`.\n",
    "\n",
    "Print all rows of `ad_social`."
   ]
  },
  {
   "cell_type": "code",
   "execution_count": 34,
   "metadata": {},
   "outputs": [
    {
     "data": {
      "text/html": [
       "<div>\n",
       "<style scoped>\n",
       "    .dataframe tbody tr th:only-of-type {\n",
       "        vertical-align: middle;\n",
       "    }\n",
       "\n",
       "    .dataframe tbody tr th {\n",
       "        vertical-align: top;\n",
       "    }\n",
       "\n",
       "    .dataframe thead th {\n",
       "        text-align: right;\n",
       "    }\n",
       "</style>\n",
       "<table border=\"1\" class=\"dataframe\">\n",
       "  <thead>\n",
       "    <tr style=\"text-align: right;\">\n",
       "      <th>ad_version</th>\n",
       "      <th>A</th>\n",
       "      <th>B</th>\n",
       "    </tr>\n",
       "    <tr>\n",
       "      <th>ad_source</th>\n",
       "      <th></th>\n",
       "      <th></th>\n",
       "    </tr>\n",
       "  </thead>\n",
       "  <tbody>\n",
       "    <tr>\n",
       "      <th>Google</th>\n",
       "      <td>12.838469</td>\n",
       "      <td>19.882512</td>\n",
       "    </tr>\n",
       "    <tr>\n",
       "      <th>Meta</th>\n",
       "      <td>12.966418</td>\n",
       "      <td>18.803419</td>\n",
       "    </tr>\n",
       "    <tr>\n",
       "      <th>TikTok</th>\n",
       "      <td>11.581921</td>\n",
       "      <td>20.235849</td>\n",
       "    </tr>\n",
       "    <tr>\n",
       "      <th>Twitter</th>\n",
       "      <td>11.962366</td>\n",
       "      <td>17.507003</td>\n",
       "    </tr>\n",
       "  </tbody>\n",
       "</table>\n",
       "</div>"
      ],
      "text/plain": [
       "ad_version          A          B\n",
       "ad_source                       \n",
       "Google      12.838469  19.882512\n",
       "Meta        12.966418  18.803419\n",
       "TikTok      11.581921  20.235849\n",
       "Twitter     11.962366  17.507003"
      ]
     },
     "execution_count": 34,
     "metadata": {},
     "output_type": "execute_result"
    }
   ],
   "source": [
    "ads_social = ads_by_social.pivot_table(index=\"ad_source\", columns='ad_version', values='clicked')\n",
    "ads_social.head()"
   ]
  },
  {
   "cell_type": "markdown",
   "metadata": {},
   "source": [
    "<details>\n",
    "    <summary style=\"display:list-item; font-size:16px; color:blue;\"><i>What did we learn about the ad performances across various social media platforms? Toggle to check!</i></summary>\n",
    "\n",
    "The click-through rates for ad version `B` consistently outperformed the click-through rates for ad version `A` across all social media platforms. This is more evidence to suggest that our new ad version `B` is more effective than the old ad version `A`.  \n",
    "\n",
    "Ad version `B` performed the best on TikTok with over 20% of users clicking on the ad which might suggest that the newer advertisement was more effective towards the younger demographic that make up the majority of TikTok users. \n",
    "    \n",
    "Based on this data alone, we can't conclude whether or not the difference in ad performances across social media platforms is statistically significant. To confirm our results, we'd need to use a hypothesis test, which you can learn in our statistics courses.\n",
    "\n",
    "</details>"
   ]
  },
  {
   "cell_type": "markdown",
   "metadata": {},
   "source": [
    "## Task Group 4 - Compare Ad Performances by Tech Device"
   ]
  },
  {
   "cell_type": "markdown",
   "metadata": {},
   "source": [
    "### Task 11"
   ]
  },
  {
   "cell_type": "markdown",
   "metadata": {},
   "source": [
    "Let's now investigate the click-through rates broken down by device (cell phone, tablet, etc.)\n",
    "\n",
    "Import the CSV file `devices.csv` and assign it to the variable `devices`. Preview the full dataset.\n",
    "\n",
    "How many different devices are there?"
   ]
  },
  {
   "cell_type": "code",
   "execution_count": 35,
   "metadata": {},
   "outputs": [
    {
     "data": {
      "text/html": [
       "<div>\n",
       "<style scoped>\n",
       "    .dataframe tbody tr th:only-of-type {\n",
       "        vertical-align: middle;\n",
       "    }\n",
       "\n",
       "    .dataframe tbody tr th {\n",
       "        vertical-align: top;\n",
       "    }\n",
       "\n",
       "    .dataframe thead th {\n",
       "        text-align: right;\n",
       "    }\n",
       "</style>\n",
       "<table border=\"1\" class=\"dataframe\">\n",
       "  <thead>\n",
       "    <tr style=\"text-align: right;\">\n",
       "      <th></th>\n",
       "      <th>device_id</th>\n",
       "      <th>device_type</th>\n",
       "      <th>brand</th>\n",
       "    </tr>\n",
       "  </thead>\n",
       "  <tbody>\n",
       "    <tr>\n",
       "      <th>0</th>\n",
       "      <td>M001</td>\n",
       "      <td>Mobile</td>\n",
       "      <td>Apple</td>\n",
       "    </tr>\n",
       "    <tr>\n",
       "      <th>1</th>\n",
       "      <td>M002</td>\n",
       "      <td>Mobile</td>\n",
       "      <td>Samsung</td>\n",
       "    </tr>\n",
       "    <tr>\n",
       "      <th>2</th>\n",
       "      <td>M003</td>\n",
       "      <td>Mobile</td>\n",
       "      <td>Google</td>\n",
       "    </tr>\n",
       "    <tr>\n",
       "      <th>3</th>\n",
       "      <td>M004</td>\n",
       "      <td>Mobile</td>\n",
       "      <td>Huawei</td>\n",
       "    </tr>\n",
       "    <tr>\n",
       "      <th>4</th>\n",
       "      <td>M005</td>\n",
       "      <td>Mobile</td>\n",
       "      <td>Xiaomi</td>\n",
       "    </tr>\n",
       "  </tbody>\n",
       "</table>\n",
       "</div>"
      ],
      "text/plain": [
       "  device_id device_type    brand\n",
       "0      M001      Mobile    Apple\n",
       "1      M002      Mobile  Samsung\n",
       "2      M003      Mobile   Google\n",
       "3      M004      Mobile   Huawei\n",
       "4      M005      Mobile   Xiaomi"
      ]
     },
     "execution_count": 35,
     "metadata": {},
     "output_type": "execute_result"
    }
   ],
   "source": [
    "devices = pd.read_csv('devices.csv')\n",
    "devices.describe()\n",
    "devices.head()"
   ]
  },
  {
   "cell_type": "markdown",
   "metadata": {},
   "source": [
    "<details>\n",
    "    <summary style=\"display:list-item; font-size:16px; color:blue;\"><i>What is the structure of this dataset? Toggle to check!</i></summary>\n",
    "\n",
    "There are 22 different devices in the data. \n",
    "\n",
    "Here's a quick summary of the columns:\n",
    "\n",
    "- `device_id` - a unique identifier of the device\n",
    "- `device_type` - the type of device\n",
    "- `brand` - the brand of the device\n",
    "\n",
    "</details>"
   ]
  },
  {
   "cell_type": "markdown",
   "metadata": {},
   "source": [
    "### Task 12"
   ]
  },
  {
   "cell_type": "markdown",
   "metadata": {},
   "source": [
    "Let's now combine each user's ad information with their device information. \n",
    "\n",
    "Merge `users_ads` with `devices` using the `device_id` column. Make sure to return all of the rows in `users_ads`, along with matching device information if it exists.\n",
    "\n",
    "Name the merged DataFrame `users_devices` and preview the first five rows."
   ]
  },
  {
   "cell_type": "code",
   "execution_count": 36,
   "metadata": {},
   "outputs": [
    {
     "data": {
      "text/html": [
       "<div>\n",
       "<style scoped>\n",
       "    .dataframe tbody tr th:only-of-type {\n",
       "        vertical-align: middle;\n",
       "    }\n",
       "\n",
       "    .dataframe tbody tr th {\n",
       "        vertical-align: top;\n",
       "    }\n",
       "\n",
       "    .dataframe thead th {\n",
       "        text-align: right;\n",
       "    }\n",
       "</style>\n",
       "<table border=\"1\" class=\"dataframe\">\n",
       "  <thead>\n",
       "    <tr style=\"text-align: right;\">\n",
       "      <th></th>\n",
       "      <th>user_id</th>\n",
       "      <th>timestamp</th>\n",
       "      <th>device_id</th>\n",
       "      <th>clicked</th>\n",
       "      <th>ad_source</th>\n",
       "      <th>ad_version</th>\n",
       "      <th>device_type</th>\n",
       "      <th>brand</th>\n",
       "    </tr>\n",
       "  </thead>\n",
       "  <tbody>\n",
       "    <tr>\n",
       "      <th>0</th>\n",
       "      <td>U790620</td>\n",
       "      <td>2022-01-01 00:23:33 Saturday</td>\n",
       "      <td>M003</td>\n",
       "      <td>False</td>\n",
       "      <td>Twitter</td>\n",
       "      <td>A</td>\n",
       "      <td>Mobile</td>\n",
       "      <td>Google</td>\n",
       "    </tr>\n",
       "    <tr>\n",
       "      <th>1</th>\n",
       "      <td>U694898</td>\n",
       "      <td>2022-01-01 01:31:55 Saturday</td>\n",
       "      <td>M003</td>\n",
       "      <td>False</td>\n",
       "      <td>TikTok</td>\n",
       "      <td>A</td>\n",
       "      <td>Mobile</td>\n",
       "      <td>Google</td>\n",
       "    </tr>\n",
       "    <tr>\n",
       "      <th>2</th>\n",
       "      <td>U447163</td>\n",
       "      <td>2022-01-01 06:37:08 Saturday</td>\n",
       "      <td>M003</td>\n",
       "      <td>True</td>\n",
       "      <td>Google</td>\n",
       "      <td>B</td>\n",
       "      <td>Mobile</td>\n",
       "      <td>Google</td>\n",
       "    </tr>\n",
       "    <tr>\n",
       "      <th>3</th>\n",
       "      <td>U143188</td>\n",
       "      <td>2022-01-01 12:36:02 Saturday</td>\n",
       "      <td>M003</td>\n",
       "      <td>False</td>\n",
       "      <td>TikTok</td>\n",
       "      <td>B</td>\n",
       "      <td>Mobile</td>\n",
       "      <td>Google</td>\n",
       "    </tr>\n",
       "    <tr>\n",
       "      <th>4</th>\n",
       "      <td>U533059</td>\n",
       "      <td>2022-01-02 10:08:20 Sunday</td>\n",
       "      <td>M003</td>\n",
       "      <td>False</td>\n",
       "      <td>Meta</td>\n",
       "      <td>B</td>\n",
       "      <td>Mobile</td>\n",
       "      <td>Google</td>\n",
       "    </tr>\n",
       "    <tr>\n",
       "      <th>...</th>\n",
       "      <td>...</td>\n",
       "      <td>...</td>\n",
       "      <td>...</td>\n",
       "      <td>...</td>\n",
       "      <td>...</td>\n",
       "      <td>...</td>\n",
       "      <td>...</td>\n",
       "      <td>...</td>\n",
       "    </tr>\n",
       "    <tr>\n",
       "      <th>13551</th>\n",
       "      <td>U424450</td>\n",
       "      <td>2022-12-30 15:06:47 Friday</td>\n",
       "      <td>P002</td>\n",
       "      <td>False</td>\n",
       "      <td>Meta</td>\n",
       "      <td>A</td>\n",
       "      <td>PC</td>\n",
       "      <td>Dell</td>\n",
       "    </tr>\n",
       "    <tr>\n",
       "      <th>13552</th>\n",
       "      <td>U846543</td>\n",
       "      <td>2022-12-30 16:06:27 Friday</td>\n",
       "      <td>P002</td>\n",
       "      <td>True</td>\n",
       "      <td>Meta</td>\n",
       "      <td>A</td>\n",
       "      <td>PC</td>\n",
       "      <td>Dell</td>\n",
       "    </tr>\n",
       "    <tr>\n",
       "      <th>13553</th>\n",
       "      <td>U182412</td>\n",
       "      <td>2022-12-31 16:22:16 Saturday</td>\n",
       "      <td>P002</td>\n",
       "      <td>False</td>\n",
       "      <td>TikTok</td>\n",
       "      <td>B</td>\n",
       "      <td>PC</td>\n",
       "      <td>Dell</td>\n",
       "    </tr>\n",
       "    <tr>\n",
       "      <th>13554</th>\n",
       "      <td>U876556</td>\n",
       "      <td>2022-12-31 19:41:52 Saturday</td>\n",
       "      <td>P002</td>\n",
       "      <td>False</td>\n",
       "      <td>Twitter</td>\n",
       "      <td>A</td>\n",
       "      <td>PC</td>\n",
       "      <td>Dell</td>\n",
       "    </tr>\n",
       "    <tr>\n",
       "      <th>13555</th>\n",
       "      <td>U121376</td>\n",
       "      <td>2022-12-31 23:58:41 Saturday</td>\n",
       "      <td>P002</td>\n",
       "      <td>False</td>\n",
       "      <td>TikTok</td>\n",
       "      <td>B</td>\n",
       "      <td>PC</td>\n",
       "      <td>Dell</td>\n",
       "    </tr>\n",
       "  </tbody>\n",
       "</table>\n",
       "<p>13556 rows × 8 columns</p>\n",
       "</div>"
      ],
      "text/plain": [
       "       user_id                     timestamp device_id  clicked ad_source  \\\n",
       "0      U790620  2022-01-01 00:23:33 Saturday      M003    False   Twitter   \n",
       "1      U694898  2022-01-01 01:31:55 Saturday      M003    False    TikTok   \n",
       "2      U447163  2022-01-01 06:37:08 Saturday      M003     True    Google   \n",
       "3      U143188  2022-01-01 12:36:02 Saturday      M003    False    TikTok   \n",
       "4      U533059    2022-01-02 10:08:20 Sunday      M003    False      Meta   \n",
       "...        ...                           ...       ...      ...       ...   \n",
       "13551  U424450    2022-12-30 15:06:47 Friday      P002    False      Meta   \n",
       "13552  U846543    2022-12-30 16:06:27 Friday      P002     True      Meta   \n",
       "13553  U182412  2022-12-31 16:22:16 Saturday      P002    False    TikTok   \n",
       "13554  U876556  2022-12-31 19:41:52 Saturday      P002    False   Twitter   \n",
       "13555  U121376  2022-12-31 23:58:41 Saturday      P002    False    TikTok   \n",
       "\n",
       "      ad_version device_type   brand  \n",
       "0              A      Mobile  Google  \n",
       "1              A      Mobile  Google  \n",
       "2              B      Mobile  Google  \n",
       "3              B      Mobile  Google  \n",
       "4              B      Mobile  Google  \n",
       "...          ...         ...     ...  \n",
       "13551          A          PC    Dell  \n",
       "13552          A          PC    Dell  \n",
       "13553          B          PC    Dell  \n",
       "13554          A          PC    Dell  \n",
       "13555          B          PC    Dell  \n",
       "\n",
       "[13556 rows x 8 columns]"
      ]
     },
     "execution_count": 36,
     "metadata": {},
     "output_type": "execute_result"
    }
   ],
   "source": [
    "user_devices = pd.merge(user_ads, devices, on='device_id', how='inner')\n",
    "user_devices"
   ]
  },
  {
   "cell_type": "markdown",
   "metadata": {},
   "source": [
    "### Task 13"
   ]
  },
  {
   "cell_type": "markdown",
   "metadata": {},
   "source": [
    "Calculate the percentage of users who clicked on the advertisement based on their `device_type` and `ad_version` they viewed."
   ]
  },
  {
   "cell_type": "code",
   "execution_count": 37,
   "metadata": {},
   "outputs": [
    {
     "data": {
      "text/html": [
       "<div>\n",
       "<style scoped>\n",
       "    .dataframe tbody tr th:only-of-type {\n",
       "        vertical-align: middle;\n",
       "    }\n",
       "\n",
       "    .dataframe tbody tr th {\n",
       "        vertical-align: top;\n",
       "    }\n",
       "\n",
       "    .dataframe thead th {\n",
       "        text-align: right;\n",
       "    }\n",
       "</style>\n",
       "<table border=\"1\" class=\"dataframe\">\n",
       "  <thead>\n",
       "    <tr style=\"text-align: right;\">\n",
       "      <th>ad_version</th>\n",
       "      <th>A</th>\n",
       "      <th>B</th>\n",
       "    </tr>\n",
       "    <tr>\n",
       "      <th>device_type</th>\n",
       "      <th></th>\n",
       "      <th></th>\n",
       "    </tr>\n",
       "  </thead>\n",
       "  <tbody>\n",
       "    <tr>\n",
       "      <th>Mobile</th>\n",
       "      <td>0.121057</td>\n",
       "      <td>0.215877</td>\n",
       "    </tr>\n",
       "    <tr>\n",
       "      <th>PC</th>\n",
       "      <td>0.121311</td>\n",
       "      <td>0.182425</td>\n",
       "    </tr>\n",
       "    <tr>\n",
       "      <th>Tablet</th>\n",
       "      <td>0.128315</td>\n",
       "      <td>0.171348</td>\n",
       "    </tr>\n",
       "  </tbody>\n",
       "</table>\n",
       "</div>"
      ],
      "text/plain": [
       "ad_version          A         B\n",
       "device_type                    \n",
       "Mobile       0.121057  0.215877\n",
       "PC           0.121311  0.182425\n",
       "Tablet       0.128315  0.171348"
      ]
     },
     "execution_count": 37,
     "metadata": {},
     "output_type": "execute_result"
    }
   ],
   "source": [
    "device_adclicks = user_devices.groupby(['device_type', 'ad_version']).mean('clicked')\n",
    "device_adclicks = device_adclicks.pivot_table(index='device_type', columns='ad_version', values='clicked')\n",
    "device_adclicks.head()"
   ]
  },
  {
   "cell_type": "markdown",
   "metadata": {},
   "source": [
    "<details>\n",
    "    <summary style=\"display:list-item; font-size:16px; color:blue;\"><i>What did we learn about the ad performances across tech devices? Toggle to check!</i></summary>\n",
    "\n",
    "Once again, the click-through rates for ad version `B` consistently outperformed the click-through rates for ad version `A` across all tech devices. This is even more evidence to suggest that our new ad version `B` is more effective than the old ad version `A`.  \n",
    "\n",
    "Interestingly, it looks like ad version `B` was more effective towards mobile users compared to PC and tablet users. Recall that TikTok was also particularly well-represented in click-throughs.\n",
    "\n",
    "</details>"
   ]
  },
  {
   "cell_type": "markdown",
   "metadata": {},
   "source": [
    "## Task Group 5 - Weekday and Weekend Performance by Device Type"
   ]
  },
  {
   "cell_type": "markdown",
   "metadata": {},
   "source": [
    "### Task 14"
   ]
  },
  {
   "cell_type": "markdown",
   "metadata": {},
   "source": [
    "Let's break our analysis down further by weekday versus weekend user behavior. \n",
    "\n",
    "There are various approaches we could use to explore this question, but let's practice using the **split-apply-combine (SAC)**  technique.\n",
    "\n",
    "Recall, SAC involves a three-step process where we:\n",
    "1. **Split** the dataset into one or more pieces\n",
    "2. **Apply** a function or transformation to each piece\n",
    "3. **Combine** the results from each piece\n",
    "\n",
    "We've provided starter code below that creates a new column `day_of_week` extracted from the `timestamp` column indicating the day on which the user viewed the ad.\n",
    "\n",
    "Count the number of users who viewed each ad, grouped by the day of the week and the ad version they saw."
   ]
  },
  {
   "cell_type": "code",
   "execution_count": 38,
   "metadata": {},
   "outputs": [
    {
     "data": {
      "text/html": [
       "<div>\n",
       "<style scoped>\n",
       "    .dataframe tbody tr th:only-of-type {\n",
       "        vertical-align: middle;\n",
       "    }\n",
       "\n",
       "    .dataframe tbody tr th {\n",
       "        vertical-align: top;\n",
       "    }\n",
       "\n",
       "    .dataframe thead th {\n",
       "        text-align: right;\n",
       "    }\n",
       "</style>\n",
       "<table border=\"1\" class=\"dataframe\">\n",
       "  <thead>\n",
       "    <tr style=\"text-align: right;\">\n",
       "      <th></th>\n",
       "      <th></th>\n",
       "      <th>user_id</th>\n",
       "    </tr>\n",
       "    <tr>\n",
       "      <th>day_of_week</th>\n",
       "      <th>ad_version</th>\n",
       "      <th></th>\n",
       "    </tr>\n",
       "  </thead>\n",
       "  <tbody>\n",
       "    <tr>\n",
       "      <th rowspan=\"2\" valign=\"top\">Friday</th>\n",
       "      <th>A</th>\n",
       "      <td>1009</td>\n",
       "    </tr>\n",
       "    <tr>\n",
       "      <th>B</th>\n",
       "      <td>999</td>\n",
       "    </tr>\n",
       "    <tr>\n",
       "      <th rowspan=\"2\" valign=\"top\">Monday</th>\n",
       "      <th>A</th>\n",
       "      <td>953</td>\n",
       "    </tr>\n",
       "    <tr>\n",
       "      <th>B</th>\n",
       "      <td>977</td>\n",
       "    </tr>\n",
       "    <tr>\n",
       "      <th rowspan=\"2\" valign=\"top\">Saturday</th>\n",
       "      <th>A</th>\n",
       "      <td>983</td>\n",
       "    </tr>\n",
       "    <tr>\n",
       "      <th>B</th>\n",
       "      <td>934</td>\n",
       "    </tr>\n",
       "    <tr>\n",
       "      <th rowspan=\"2\" valign=\"top\">Sunday</th>\n",
       "      <th>A</th>\n",
       "      <td>926</td>\n",
       "    </tr>\n",
       "    <tr>\n",
       "      <th>B</th>\n",
       "      <td>987</td>\n",
       "    </tr>\n",
       "    <tr>\n",
       "      <th rowspan=\"2\" valign=\"top\">Thursday</th>\n",
       "      <th>A</th>\n",
       "      <td>950</td>\n",
       "    </tr>\n",
       "    <tr>\n",
       "      <th>B</th>\n",
       "      <td>932</td>\n",
       "    </tr>\n",
       "    <tr>\n",
       "      <th rowspan=\"2\" valign=\"top\">Tuesday</th>\n",
       "      <th>A</th>\n",
       "      <td>937</td>\n",
       "    </tr>\n",
       "    <tr>\n",
       "      <th>B</th>\n",
       "      <td>994</td>\n",
       "    </tr>\n",
       "    <tr>\n",
       "      <th rowspan=\"2\" valign=\"top\">Wednesday</th>\n",
       "      <th>A</th>\n",
       "      <td>986</td>\n",
       "    </tr>\n",
       "    <tr>\n",
       "      <th>B</th>\n",
       "      <td>989</td>\n",
       "    </tr>\n",
       "  </tbody>\n",
       "</table>\n",
       "</div>"
      ],
      "text/plain": [
       "                        user_id\n",
       "day_of_week ad_version         \n",
       "Friday      A              1009\n",
       "            B               999\n",
       "Monday      A               953\n",
       "            B               977\n",
       "Saturday    A               983\n",
       "            B               934\n",
       "Sunday      A               926\n",
       "            B               987\n",
       "Thursday    A               950\n",
       "            B               932\n",
       "Tuesday     A               937\n",
       "            B               994\n",
       "Wednesday   A               986\n",
       "            B               989"
      ]
     },
     "execution_count": 38,
     "metadata": {},
     "output_type": "execute_result"
    }
   ],
   "source": [
    "# Create 'day_of_week' column\n",
    "user_devices['day_of_week'] = user_devices['timestamp'].str.split(' ', expand=True)[2]\n",
    "user_devices.head()\n",
    "## YOUR SOLUTION HERE\n",
    "user_ads_by_day = user_devices.groupby(['day_of_week', 'ad_version']).agg({'user_id': 'count'})\n",
    "user_ads_by_day.head(14)"
   ]
  },
  {
   "cell_type": "markdown",
   "metadata": {},
   "source": [
    "### Task 15"
   ]
  },
  {
   "cell_type": "markdown",
   "metadata": {},
   "source": [
    "**Split** `users_devices` into two DataFrames:\n",
    "- `weekends` filtering for users who saw either ad on Saturday or Sunday\n",
    "- `weekdays` filtering for users who saw either ad from Monday to Friday\n",
    "\n",
    "Use the `|` operator, and see the hint for more of a refresher on Boolean masks!\n",
    "\n",
    "Preview the first five rows in `weekdays`."
   ]
  },
  {
   "cell_type": "code",
   "execution_count": 39,
   "metadata": {},
   "outputs": [
    {
     "data": {
      "text/html": [
       "<div>\n",
       "<style scoped>\n",
       "    .dataframe tbody tr th:only-of-type {\n",
       "        vertical-align: middle;\n",
       "    }\n",
       "\n",
       "    .dataframe tbody tr th {\n",
       "        vertical-align: top;\n",
       "    }\n",
       "\n",
       "    .dataframe thead th {\n",
       "        text-align: right;\n",
       "    }\n",
       "</style>\n",
       "<table border=\"1\" class=\"dataframe\">\n",
       "  <thead>\n",
       "    <tr style=\"text-align: right;\">\n",
       "      <th></th>\n",
       "      <th>user_id</th>\n",
       "      <th>timestamp</th>\n",
       "      <th>device_id</th>\n",
       "      <th>clicked</th>\n",
       "      <th>ad_source</th>\n",
       "      <th>ad_version</th>\n",
       "      <th>device_type</th>\n",
       "      <th>brand</th>\n",
       "      <th>day_of_week</th>\n",
       "    </tr>\n",
       "  </thead>\n",
       "  <tbody>\n",
       "    <tr>\n",
       "      <th>7</th>\n",
       "      <td>U484678</td>\n",
       "      <td>2022-01-03 00:10:18 Monday</td>\n",
       "      <td>M003</td>\n",
       "      <td>False</td>\n",
       "      <td>Meta</td>\n",
       "      <td>A</td>\n",
       "      <td>Mobile</td>\n",
       "      <td>Google</td>\n",
       "      <td>Monday</td>\n",
       "    </tr>\n",
       "    <tr>\n",
       "      <th>8</th>\n",
       "      <td>U597754</td>\n",
       "      <td>2022-01-03 00:53:23 Monday</td>\n",
       "      <td>M003</td>\n",
       "      <td>False</td>\n",
       "      <td>TikTok</td>\n",
       "      <td>B</td>\n",
       "      <td>Mobile</td>\n",
       "      <td>Google</td>\n",
       "      <td>Monday</td>\n",
       "    </tr>\n",
       "    <tr>\n",
       "      <th>9</th>\n",
       "      <td>U695803</td>\n",
       "      <td>2022-01-03 04:17:55 Monday</td>\n",
       "      <td>M003</td>\n",
       "      <td>False</td>\n",
       "      <td>TikTok</td>\n",
       "      <td>A</td>\n",
       "      <td>Mobile</td>\n",
       "      <td>Google</td>\n",
       "      <td>Monday</td>\n",
       "    </tr>\n",
       "    <tr>\n",
       "      <th>10</th>\n",
       "      <td>U331858</td>\n",
       "      <td>2022-01-04 05:18:44 Tuesday</td>\n",
       "      <td>M003</td>\n",
       "      <td>False</td>\n",
       "      <td>TikTok</td>\n",
       "      <td>B</td>\n",
       "      <td>Mobile</td>\n",
       "      <td>Google</td>\n",
       "      <td>Tuesday</td>\n",
       "    </tr>\n",
       "    <tr>\n",
       "      <th>11</th>\n",
       "      <td>U128142</td>\n",
       "      <td>2022-01-04 07:32:42 Tuesday</td>\n",
       "      <td>M003</td>\n",
       "      <td>True</td>\n",
       "      <td>Google</td>\n",
       "      <td>B</td>\n",
       "      <td>Mobile</td>\n",
       "      <td>Google</td>\n",
       "      <td>Tuesday</td>\n",
       "    </tr>\n",
       "  </tbody>\n",
       "</table>\n",
       "</div>"
      ],
      "text/plain": [
       "    user_id                    timestamp device_id  clicked ad_source  \\\n",
       "7   U484678   2022-01-03 00:10:18 Monday      M003    False      Meta   \n",
       "8   U597754   2022-01-03 00:53:23 Monday      M003    False    TikTok   \n",
       "9   U695803   2022-01-03 04:17:55 Monday      M003    False    TikTok   \n",
       "10  U331858  2022-01-04 05:18:44 Tuesday      M003    False    TikTok   \n",
       "11  U128142  2022-01-04 07:32:42 Tuesday      M003     True    Google   \n",
       "\n",
       "   ad_version device_type   brand day_of_week  \n",
       "7           A      Mobile  Google      Monday  \n",
       "8           B      Mobile  Google      Monday  \n",
       "9           A      Mobile  Google      Monday  \n",
       "10          B      Mobile  Google     Tuesday  \n",
       "11          B      Mobile  Google     Tuesday  "
      ]
     },
     "execution_count": 39,
     "metadata": {},
     "output_type": "execute_result"
    }
   ],
   "source": [
    "user_devices_weekend = user_devices[((user_devices['day_of_week'] == 'Saturday') | (user_devices['day_of_week'] == 'Sunday'))]\n",
    "user_devices_weekday = user_devices[~((user_devices['day_of_week'] == 'Saturday') | (user_devices['day_of_week'] == 'Sunday'))]\n",
    "user_devices_weekday.head()"
   ]
  },
  {
   "cell_type": "markdown",
   "metadata": {},
   "source": [
    "### Task 16"
   ]
  },
  {
   "cell_type": "markdown",
   "metadata": {},
   "source": [
    "**Apply** aggregation functions.\n",
    "\n",
    "Create a new DataFrame `weekday_ctr` that computes\n",
    "\n",
    "- the total number of views on weekdays\n",
    "- the percent of clicks on weekdays\n",
    "\n",
    "grouped by `device_type` and `ad_version`.\n",
    "\n",
    "Name the two columns `weekday_views` and `weekday_rate`, and then reset the index of the DataFrame `weekday_ctr`.\n",
    "\n",
    "Print the full `weekday_ctr` DataFrame."
   ]
  },
  {
   "cell_type": "code",
   "execution_count": 40,
   "metadata": {},
   "outputs": [
    {
     "data": {
      "text/html": [
       "<div>\n",
       "<style scoped>\n",
       "    .dataframe tbody tr th:only-of-type {\n",
       "        vertical-align: middle;\n",
       "    }\n",
       "\n",
       "    .dataframe tbody tr th {\n",
       "        vertical-align: top;\n",
       "    }\n",
       "\n",
       "    .dataframe thead th {\n",
       "        text-align: right;\n",
       "    }\n",
       "</style>\n",
       "<table border=\"1\" class=\"dataframe\">\n",
       "  <thead>\n",
       "    <tr style=\"text-align: right;\">\n",
       "      <th></th>\n",
       "      <th>device_type</th>\n",
       "      <th>ad_version</th>\n",
       "      <th>user_id</th>\n",
       "      <th>clicked</th>\n",
       "    </tr>\n",
       "  </thead>\n",
       "  <tbody>\n",
       "    <tr>\n",
       "      <th>0</th>\n",
       "      <td>Mobile</td>\n",
       "      <td>A</td>\n",
       "      <td>2517</td>\n",
       "      <td>0.125944</td>\n",
       "    </tr>\n",
       "    <tr>\n",
       "      <th>1</th>\n",
       "      <td>Mobile</td>\n",
       "      <td>B</td>\n",
       "      <td>2594</td>\n",
       "      <td>0.212799</td>\n",
       "    </tr>\n",
       "    <tr>\n",
       "      <th>2</th>\n",
       "      <td>PC</td>\n",
       "      <td>A</td>\n",
       "      <td>1309</td>\n",
       "      <td>0.128342</td>\n",
       "    </tr>\n",
       "    <tr>\n",
       "      <th>3</th>\n",
       "      <td>PC</td>\n",
       "      <td>B</td>\n",
       "      <td>1285</td>\n",
       "      <td>0.189105</td>\n",
       "    </tr>\n",
       "    <tr>\n",
       "      <th>4</th>\n",
       "      <td>Tablet</td>\n",
       "      <td>A</td>\n",
       "      <td>1009</td>\n",
       "      <td>0.142716</td>\n",
       "    </tr>\n",
       "    <tr>\n",
       "      <th>5</th>\n",
       "      <td>Tablet</td>\n",
       "      <td>B</td>\n",
       "      <td>1012</td>\n",
       "      <td>0.164032</td>\n",
       "    </tr>\n",
       "  </tbody>\n",
       "</table>\n",
       "</div>"
      ],
      "text/plain": [
       "  device_type ad_version  user_id   clicked\n",
       "0      Mobile          A     2517  0.125944\n",
       "1      Mobile          B     2594  0.212799\n",
       "2          PC          A     1309  0.128342\n",
       "3          PC          B     1285  0.189105\n",
       "4      Tablet          A     1009  0.142716\n",
       "5      Tablet          B     1012  0.164032"
      ]
     },
     "execution_count": 40,
     "metadata": {},
     "output_type": "execute_result"
    }
   ],
   "source": [
    "weekday_ctr = user_devices_weekday.groupby(['device_type', 'ad_version']).agg({\n",
    "                                                                        'user_id': 'count',\n",
    "                                                                        'clicked': 'mean'\n",
    "                                                                        }).reset_index()\n",
    "weekday_ctr"
   ]
  },
  {
   "cell_type": "markdown",
   "metadata": {},
   "source": [
    "\n",
    "### Task 17\n",
    "\n",
    "Create a new DataFrame `weekend_ctr` that computes\n",
    "\n",
    "- the total number of clicks on weekends\n",
    "- the percent of clicks on weekends\n",
    "\n",
    "grouped by `device_type` and `ad_version`.\n",
    "\n",
    "Name the two columns `weekend_views` and `weekend_rate`, and then reset the index of the DataFrame `weekend_ctr`.\n",
    "\n",
    "Print the full `weekend_ctr` DataFrame."
   ]
  },
  {
   "cell_type": "code",
   "execution_count": 41,
   "metadata": {},
   "outputs": [
    {
     "data": {
      "text/html": [
       "<div>\n",
       "<style scoped>\n",
       "    .dataframe tbody tr th:only-of-type {\n",
       "        vertical-align: middle;\n",
       "    }\n",
       "\n",
       "    .dataframe tbody tr th {\n",
       "        vertical-align: top;\n",
       "    }\n",
       "\n",
       "    .dataframe thead th {\n",
       "        text-align: right;\n",
       "    }\n",
       "</style>\n",
       "<table border=\"1\" class=\"dataframe\">\n",
       "  <thead>\n",
       "    <tr style=\"text-align: right;\">\n",
       "      <th></th>\n",
       "      <th>device_type</th>\n",
       "      <th>ad_version</th>\n",
       "      <th>user_id</th>\n",
       "      <th>clicked</th>\n",
       "    </tr>\n",
       "  </thead>\n",
       "  <tbody>\n",
       "    <tr>\n",
       "      <th>0</th>\n",
       "      <td>Mobile</td>\n",
       "      <td>A</td>\n",
       "      <td>1002</td>\n",
       "      <td>0.108782</td>\n",
       "    </tr>\n",
       "    <tr>\n",
       "      <th>1</th>\n",
       "      <td>Mobile</td>\n",
       "      <td>B</td>\n",
       "      <td>996</td>\n",
       "      <td>0.223896</td>\n",
       "    </tr>\n",
       "    <tr>\n",
       "      <th>2</th>\n",
       "      <td>PC</td>\n",
       "      <td>A</td>\n",
       "      <td>521</td>\n",
       "      <td>0.103647</td>\n",
       "    </tr>\n",
       "    <tr>\n",
       "      <th>3</th>\n",
       "      <td>PC</td>\n",
       "      <td>B</td>\n",
       "      <td>513</td>\n",
       "      <td>0.165692</td>\n",
       "    </tr>\n",
       "    <tr>\n",
       "      <th>4</th>\n",
       "      <td>Tablet</td>\n",
       "      <td>A</td>\n",
       "      <td>386</td>\n",
       "      <td>0.090674</td>\n",
       "    </tr>\n",
       "    <tr>\n",
       "      <th>5</th>\n",
       "      <td>Tablet</td>\n",
       "      <td>B</td>\n",
       "      <td>412</td>\n",
       "      <td>0.189320</td>\n",
       "    </tr>\n",
       "  </tbody>\n",
       "</table>\n",
       "</div>"
      ],
      "text/plain": [
       "  device_type ad_version  user_id   clicked\n",
       "0      Mobile          A     1002  0.108782\n",
       "1      Mobile          B      996  0.223896\n",
       "2          PC          A      521  0.103647\n",
       "3          PC          B      513  0.165692\n",
       "4      Tablet          A      386  0.090674\n",
       "5      Tablet          B      412  0.189320"
      ]
     },
     "execution_count": 41,
     "metadata": {},
     "output_type": "execute_result"
    }
   ],
   "source": [
    "weekend_ctr = user_devices_weekend.groupby(['device_type', 'ad_version']).agg({\n",
    "                                                                        'user_id': 'count',\n",
    "                                                                        'clicked': 'mean'\n",
    "                                                                        }).reset_index()\n",
    "weekend_ctr"
   ]
  },
  {
   "cell_type": "markdown",
   "metadata": {},
   "source": [
    "### Task 18"
   ]
  },
  {
   "cell_type": "markdown",
   "metadata": {},
   "source": [
    "**Combine** `weekday_ctr` and `weekend_ctr` by merging on the `device_type` and `ad_version` columns into a DataFrame named `combined_ctr`. Make sure to return matching rows from both DataFrames.\n",
    "\n",
    "Preview all of the click-through rates in `combined_ctr`."
   ]
  },
  {
   "cell_type": "code",
   "execution_count": 42,
   "metadata": {},
   "outputs": [
    {
     "data": {
      "text/html": [
       "<div>\n",
       "<style scoped>\n",
       "    .dataframe tbody tr th:only-of-type {\n",
       "        vertical-align: middle;\n",
       "    }\n",
       "\n",
       "    .dataframe tbody tr th {\n",
       "        vertical-align: top;\n",
       "    }\n",
       "\n",
       "    .dataframe thead th {\n",
       "        text-align: right;\n",
       "    }\n",
       "</style>\n",
       "<table border=\"1\" class=\"dataframe\">\n",
       "  <thead>\n",
       "    <tr style=\"text-align: right;\">\n",
       "      <th></th>\n",
       "      <th>device_type</th>\n",
       "      <th>ad_version</th>\n",
       "      <th>weekday_unique_visits</th>\n",
       "      <th>weekday_ctr</th>\n",
       "      <th>weekend_unique_visits</th>\n",
       "      <th>weekend_ctr</th>\n",
       "    </tr>\n",
       "  </thead>\n",
       "  <tbody>\n",
       "    <tr>\n",
       "      <th>0</th>\n",
       "      <td>Mobile</td>\n",
       "      <td>A</td>\n",
       "      <td>2517</td>\n",
       "      <td>0.125944</td>\n",
       "      <td>1002</td>\n",
       "      <td>0.108782</td>\n",
       "    </tr>\n",
       "    <tr>\n",
       "      <th>1</th>\n",
       "      <td>Mobile</td>\n",
       "      <td>B</td>\n",
       "      <td>2594</td>\n",
       "      <td>0.212799</td>\n",
       "      <td>996</td>\n",
       "      <td>0.223896</td>\n",
       "    </tr>\n",
       "    <tr>\n",
       "      <th>2</th>\n",
       "      <td>PC</td>\n",
       "      <td>A</td>\n",
       "      <td>1309</td>\n",
       "      <td>0.128342</td>\n",
       "      <td>521</td>\n",
       "      <td>0.103647</td>\n",
       "    </tr>\n",
       "    <tr>\n",
       "      <th>3</th>\n",
       "      <td>PC</td>\n",
       "      <td>B</td>\n",
       "      <td>1285</td>\n",
       "      <td>0.189105</td>\n",
       "      <td>513</td>\n",
       "      <td>0.165692</td>\n",
       "    </tr>\n",
       "    <tr>\n",
       "      <th>4</th>\n",
       "      <td>Tablet</td>\n",
       "      <td>A</td>\n",
       "      <td>1009</td>\n",
       "      <td>0.142716</td>\n",
       "      <td>386</td>\n",
       "      <td>0.090674</td>\n",
       "    </tr>\n",
       "    <tr>\n",
       "      <th>5</th>\n",
       "      <td>Tablet</td>\n",
       "      <td>B</td>\n",
       "      <td>1012</td>\n",
       "      <td>0.164032</td>\n",
       "      <td>412</td>\n",
       "      <td>0.189320</td>\n",
       "    </tr>\n",
       "  </tbody>\n",
       "</table>\n",
       "</div>"
      ],
      "text/plain": [
       "  device_type ad_version  weekday_unique_visits  weekday_ctr  \\\n",
       "0      Mobile          A                   2517     0.125944   \n",
       "1      Mobile          B                   2594     0.212799   \n",
       "2          PC          A                   1309     0.128342   \n",
       "3          PC          B                   1285     0.189105   \n",
       "4      Tablet          A                   1009     0.142716   \n",
       "5      Tablet          B                   1012     0.164032   \n",
       "\n",
       "   weekend_unique_visits  weekend_ctr  \n",
       "0                   1002     0.108782  \n",
       "1                    996     0.223896  \n",
       "2                    521     0.103647  \n",
       "3                    513     0.165692  \n",
       "4                    386     0.090674  \n",
       "5                    412     0.189320  "
      ]
     },
     "execution_count": 42,
     "metadata": {},
     "output_type": "execute_result"
    }
   ],
   "source": [
    "combined_ctr = pd.merge(weekday_ctr, weekend_ctr, on=['device_type', 'ad_version'])\n",
    "combined_ctr.columns = ['device_type', 'ad_version', 'weekday_unique_visits', 'weekday_ctr', 'weekend_unique_visits', 'weekend_ctr']\n",
    "combined_ctr"
   ]
  },
  {
   "cell_type": "markdown",
   "metadata": {},
   "source": [
    "## Task 19\n",
    "\n",
    "It looks like there are more weekday views overall, which we'd expect, but let's see if the average views per day changes from weekend to weekday.\n",
    "\n",
    "Modify `weekday_views` and `weekend_views` in `combined_ctr` to display the average number of clicks per day."
   ]
  },
  {
   "cell_type": "code",
   "execution_count": 43,
   "metadata": {},
   "outputs": [
    {
     "data": {
      "text/html": [
       "<div>\n",
       "<style scoped>\n",
       "    .dataframe tbody tr th:only-of-type {\n",
       "        vertical-align: middle;\n",
       "    }\n",
       "\n",
       "    .dataframe tbody tr th {\n",
       "        vertical-align: top;\n",
       "    }\n",
       "\n",
       "    .dataframe thead th {\n",
       "        text-align: right;\n",
       "    }\n",
       "</style>\n",
       "<table border=\"1\" class=\"dataframe\">\n",
       "  <thead>\n",
       "    <tr style=\"text-align: right;\">\n",
       "      <th></th>\n",
       "      <th>device_type</th>\n",
       "      <th>ad_version</th>\n",
       "      <th>weekday_unique_visits</th>\n",
       "      <th>weekday_ctr</th>\n",
       "      <th>weekend_unique_visits</th>\n",
       "      <th>weekend_ctr</th>\n",
       "    </tr>\n",
       "  </thead>\n",
       "  <tbody>\n",
       "    <tr>\n",
       "      <th>0</th>\n",
       "      <td>Mobile</td>\n",
       "      <td>A</td>\n",
       "      <td>503.4</td>\n",
       "      <td>0.125944</td>\n",
       "      <td>501.0</td>\n",
       "      <td>0.108782</td>\n",
       "    </tr>\n",
       "    <tr>\n",
       "      <th>1</th>\n",
       "      <td>Mobile</td>\n",
       "      <td>B</td>\n",
       "      <td>518.8</td>\n",
       "      <td>0.212799</td>\n",
       "      <td>498.0</td>\n",
       "      <td>0.223896</td>\n",
       "    </tr>\n",
       "    <tr>\n",
       "      <th>2</th>\n",
       "      <td>PC</td>\n",
       "      <td>A</td>\n",
       "      <td>261.8</td>\n",
       "      <td>0.128342</td>\n",
       "      <td>260.5</td>\n",
       "      <td>0.103647</td>\n",
       "    </tr>\n",
       "    <tr>\n",
       "      <th>3</th>\n",
       "      <td>PC</td>\n",
       "      <td>B</td>\n",
       "      <td>257.0</td>\n",
       "      <td>0.189105</td>\n",
       "      <td>256.5</td>\n",
       "      <td>0.165692</td>\n",
       "    </tr>\n",
       "    <tr>\n",
       "      <th>4</th>\n",
       "      <td>Tablet</td>\n",
       "      <td>A</td>\n",
       "      <td>201.8</td>\n",
       "      <td>0.142716</td>\n",
       "      <td>193.0</td>\n",
       "      <td>0.090674</td>\n",
       "    </tr>\n",
       "    <tr>\n",
       "      <th>5</th>\n",
       "      <td>Tablet</td>\n",
       "      <td>B</td>\n",
       "      <td>202.4</td>\n",
       "      <td>0.164032</td>\n",
       "      <td>206.0</td>\n",
       "      <td>0.189320</td>\n",
       "    </tr>\n",
       "  </tbody>\n",
       "</table>\n",
       "</div>"
      ],
      "text/plain": [
       "  device_type ad_version  weekday_unique_visits  weekday_ctr  \\\n",
       "0      Mobile          A                  503.4     0.125944   \n",
       "1      Mobile          B                  518.8     0.212799   \n",
       "2          PC          A                  261.8     0.128342   \n",
       "3          PC          B                  257.0     0.189105   \n",
       "4      Tablet          A                  201.8     0.142716   \n",
       "5      Tablet          B                  202.4     0.164032   \n",
       "\n",
       "   weekend_unique_visits  weekend_ctr  \n",
       "0                  501.0     0.108782  \n",
       "1                  498.0     0.223896  \n",
       "2                  260.5     0.103647  \n",
       "3                  256.5     0.165692  \n",
       "4                  193.0     0.090674  \n",
       "5                  206.0     0.189320  "
      ]
     },
     "execution_count": 43,
     "metadata": {},
     "output_type": "execute_result"
    }
   ],
   "source": [
    "combined_ctr['weekday_unique_visits'] = combined_ctr['weekday_unique_visits']/5\n",
    "combined_ctr['weekend_unique_visits'] = combined_ctr['weekend_unique_visits']/2\n",
    "combined_ctr"
   ]
  },
  {
   "cell_type": "markdown",
   "metadata": {},
   "source": [
    "<details>\n",
    "    <summary style=\"display:list-item; font-size:16px; color:blue;\"><i>What did we learn about the ad performances on weekdays and weekends? Toggle to check!</i></summary>\n",
    "\n",
    "Again we see that the click-through rates for ad version `B` consistently outperformed the click-through rates for ad version `A` across all tech devices regardless of whether or not it was on a weekday or weekend.\n",
    "    \n",
    "In fact, it seems as though there's no real difference in views on weekends versus weekdays, so for the same number of views we are just getting an increased number of clicks on the weekends.\n",
    "\n",
    "Interestingly, ad version `A` underperformed on weekends compared to weekdays across all device types but the performance of ad version `B` remained relatively similar. This is further evidence to suggest that version `B` is a more effective ad than version `A` because of its consistent performance throughout the week. \n",
    "\n",
    "Considering the overall analysis of the click-through rate performances of the two different ads, which version do you think we should continue marketing with? Version `A` or `B`??\n",
    "\n",
    "</details>"
   ]
  },
  {
   "cell_type": "markdown",
   "metadata": {},
   "source": [
    "So that's the end of the the project comparing ad performances using A/B test data. There's so much more to discover in this dataset like the click-through rates of individual days, months, or even the brand of each device. Feel free to add more cells below and continue exploring! Happy coding!"
   ]
  },
  {
   "cell_type": "code",
   "execution_count": null,
   "metadata": {},
   "outputs": [],
   "source": []
  }
 ],
 "metadata": {
  "kernelspec": {
   "display_name": "Python 3 (ipykernel)",
   "language": "python",
   "name": "python3"
  },
  "language_info": {
   "codemirror_mode": {
    "name": "ipython",
    "version": 3
   },
   "file_extension": ".py",
   "mimetype": "text/x-python",
   "name": "python",
   "nbconvert_exporter": "python",
   "pygments_lexer": "ipython3",
   "version": "3.8.10"
  },
  "vscode": {
   "interpreter": {
    "hash": "309216611941becf9925be7ac3912671b340e0beea225aa90b8e863000503aea"
   }
  }
 },
 "nbformat": 4,
 "nbformat_minor": 2
}
